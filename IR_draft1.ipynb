{
 "cells": [
  {
   "cell_type": "code",
   "execution_count": 30,
   "metadata": {},
   "outputs": [],
   "source": [
    "# pip install transformers\n",
    "# pip install seqeval\n",
    "# pip install pandas\n",
    "# pip install numpy\n",
    "# pip install matplotlib\n",
    "# pip install seaborn\n",
    "# !pip install scikit-learn\n",
    "# !pip install torch torchvision\n",
    "# !pip install nltk\n",
    "# !pip install  spacy\n",
    "# !pip install scipy\n",
    "# !pip install yellowbrick\n",
    "# !pip install tqdm\n",
    "# !pip install openpyxl\n",
    "# !pip install nlpaug"
   ]
  },
  {
   "cell_type": "code",
   "execution_count": 2,
   "metadata": {},
   "outputs": [],
   "source": [
    "import pandas as pd\n",
    "import nltk"
   ]
  },
  {
   "cell_type": "code",
   "execution_count": 3,
   "metadata": {},
   "outputs": [
    {
     "data": {
      "text/html": [
       "<div>\n",
       "<style scoped>\n",
       "    .dataframe tbody tr th:only-of-type {\n",
       "        vertical-align: middle;\n",
       "    }\n",
       "\n",
       "    .dataframe tbody tr th {\n",
       "        vertical-align: top;\n",
       "    }\n",
       "\n",
       "    .dataframe thead th {\n",
       "        text-align: right;\n",
       "    }\n",
       "</style>\n",
       "<table border=\"1\" class=\"dataframe\">\n",
       "  <thead>\n",
       "    <tr style=\"text-align: right;\">\n",
       "      <th></th>\n",
       "      <th>sentence</th>\n",
       "      <th>intent</th>\n",
       "    </tr>\n",
       "  </thead>\n",
       "  <tbody>\n",
       "    <tr>\n",
       "      <th>0</th>\n",
       "      <td>Please add a 'Book' node.</td>\n",
       "      <td>add node</td>\n",
       "    </tr>\n",
       "    <tr>\n",
       "      <th>1</th>\n",
       "      <td>Make a new node with the label 'Movie'.</td>\n",
       "      <td>add node</td>\n",
       "    </tr>\n",
       "    <tr>\n",
       "      <th>2</th>\n",
       "      <td>I would like to add a node labeled 'Game'.</td>\n",
       "      <td>add node</td>\n",
       "    </tr>\n",
       "    <tr>\n",
       "      <th>3</th>\n",
       "      <td>Can you create a node with the label 'Animal'?</td>\n",
       "      <td>add node</td>\n",
       "    </tr>\n",
       "    <tr>\n",
       "      <th>4</th>\n",
       "      <td>I need a new node with the label 'Plant'.</td>\n",
       "      <td>add node</td>\n",
       "    </tr>\n",
       "  </tbody>\n",
       "</table>\n",
       "</div>"
      ],
      "text/plain": [
       "                                         sentence    intent\n",
       "0                       Please add a 'Book' node.  add node\n",
       "1         Make a new node with the label 'Movie'.  add node\n",
       "2      I would like to add a node labeled 'Game'.  add node\n",
       "3  Can you create a node with the label 'Animal'?  add node\n",
       "4       I need a new node with the label 'Plant'.  add node"
      ]
     },
     "execution_count": 3,
     "metadata": {},
     "output_type": "execute_result"
    }
   ],
   "source": [
    "path=\"final data.xlsx\"\n",
    "data=pd.read_excel(path)\n",
    "data.head()"
   ]
  },
  {
   "cell_type": "markdown",
   "metadata": {},
   "source": [
    "### DATA AUGMENTATION"
   ]
  },
  {
   "cell_type": "markdown",
   "metadata": {},
   "source": [
    "BELOW CODE WAS RUN ON GOOGLE COLAB AND COPIED TO HERE"
   ]
  },
  {
   "cell_type": "code",
   "execution_count": null,
   "metadata": {},
   "outputs": [],
   "source": [
    "# import nlpaug.augmenter.word as naw\n",
    "# aug=naw.WordEmbsAug(model_type='word2vec',model_path=\"/content/supporting models/word2vec/GoogleNews-vectors-negative300.bin\",action='substitute')\n",
    "# count=0\n",
    "# for sent in data['sentence']:\n",
    "#   print(sent)\n",
    "#   print(aug.augment(sent))\n",
    "#   count+=1\n",
    "#   if count==3:\n",
    "#     break\n",
    "\n",
    "# output:\n",
    "'''Please add a 'Book' node.\n",
    "[\"Persons_wishing relegate a ' Book ' 4Gbit_s_Fibre_Channel.\"]\n",
    "Make a new node with the label 'Movie'.\n",
    "[\"Reinforce a new node withtheir from Crosstown_Rebels ' Movie '.\"]\n",
    "I would like to add a node labeled 'Game'.\n",
    "[\"'ve dared Hmm. to add a node labeled ' Playoff_Photos '.\"]'''"
   ]
  },
  {
   "cell_type": "code",
   "execution_count": null,
   "metadata": {},
   "outputs": [],
   "source": [
    "# bertAug=naw.ContextualWordEmbsAug(model_path='bert-base-uncased',action='substitute')\n",
    "# count=0\n",
    "# for sent in data['sentence']:\n",
    "#   print(sent)\n",
    "#   print(bertAug.augment(sent)[0])\n",
    "#   count+=1\n",
    "#   if count==3:\n",
    "#     break\n",
    "  \n",
    "#output\n",
    "'''Please add a 'Book' node.\n",
    "then contact other'book'node.\n",
    "Make a new node with the label 'Movie'.\n",
    "has one new album with the name'movie '.\n",
    "I would like to add a node labeled 'Game'.\n",
    "some would like too add one section labeled'game '.'''"
   ]
  },
  {
   "cell_type": "markdown",
   "metadata": {},
   "source": [
    "augmentation is not working i am giving up."
   ]
  }
 ],
 "metadata": {
  "kernelspec": {
   "display_name": "Python 3",
   "language": "python",
   "name": "python3"
  },
  "language_info": {
   "codemirror_mode": {
    "name": "ipython",
    "version": 3
   },
   "file_extension": ".py",
   "mimetype": "text/x-python",
   "name": "python",
   "nbconvert_exporter": "python",
   "pygments_lexer": "ipython3",
   "version": "3.12.3"
  }
 },
 "nbformat": 4,
 "nbformat_minor": 2
}

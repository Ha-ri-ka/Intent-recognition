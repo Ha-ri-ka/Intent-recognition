{
 "cells": [
  {
   "cell_type": "code",
   "execution_count": 1,
   "metadata": {},
   "outputs": [],
   "source": [
    "# pip install transformers\n",
    "# pip install seqeval\n",
    "# pip install pandas\n",
    "# pip install numpy\n",
    "# pip install matplotlib\n",
    "# pip install seaborn\n",
    "# !pip install scikit-learn\n",
    "# !pip install torch torchvision\n",
    "# !pip install nltk\n",
    "# !pip install  spacy\n",
    "# !pip install scipy\n",
    "# !pip install yellowbrick\n",
    "# !pip install tqdm\n",
    "# !pip install openpyxl\n",
    "# !pip install nlpaug"
   ]
  },
  {
   "cell_type": "code",
   "execution_count": 2,
   "metadata": {},
   "outputs": [
    {
     "name": "stderr",
     "output_type": "stream",
     "text": [
      "C:\\Users\\z004z4ut\\AppData\\Roaming\\Python\\Python312\\site-packages\\tqdm\\auto.py:21: TqdmWarning: IProgress not found. Please update jupyter and ipywidgets. See https://ipywidgets.readthedocs.io/en/stable/user_install.html\n",
      "  from .autonotebook import tqdm as notebook_tqdm\n"
     ]
    }
   ],
   "source": [
    "import pandas as pd\n",
    "import matplotlib.pyplot as plt\n",
    "import transformers\n",
    "import torch\n",
    "from transformers import BertTokenizer\n",
    "from torch.utils.data import TensorDataset\n",
    "from torch.utils.data import DataLoader, random_split, Dataset\n",
    "from transformers import BertTokenizer, BertModel, BertConfig\n",
    "import numpy as np\n",
    "import torch.nn as nn"
   ]
  },
  {
   "cell_type": "code",
   "execution_count": 3,
   "metadata": {},
   "outputs": [
    {
     "data": {
      "text/html": [
       "<div>\n",
       "<style scoped>\n",
       "    .dataframe tbody tr th:only-of-type {\n",
       "        vertical-align: middle;\n",
       "    }\n",
       "\n",
       "    .dataframe tbody tr th {\n",
       "        vertical-align: top;\n",
       "    }\n",
       "\n",
       "    .dataframe thead th {\n",
       "        text-align: right;\n",
       "    }\n",
       "</style>\n",
       "<table border=\"1\" class=\"dataframe\">\n",
       "  <thead>\n",
       "    <tr style=\"text-align: right;\">\n",
       "      <th></th>\n",
       "      <th>sentence</th>\n",
       "      <th>intent</th>\n",
       "    </tr>\n",
       "  </thead>\n",
       "  <tbody>\n",
       "    <tr>\n",
       "      <th>231</th>\n",
       "      <td>How can I add a 'KNOWS' relationship between n...</td>\n",
       "      <td>add relationship</td>\n",
       "    </tr>\n",
       "    <tr>\n",
       "      <th>172</th>\n",
       "      <td>Seriously, how hard is it to add a few propert...</td>\n",
       "      <td>add property</td>\n",
       "    </tr>\n",
       "    <tr>\n",
       "      <th>44</th>\n",
       "      <td>I need a new node with the label 'Strait'.</td>\n",
       "      <td>add node</td>\n",
       "    </tr>\n",
       "    <tr>\n",
       "      <th>271</th>\n",
       "      <td>I want to create a 'MEMBER_OF' relationship be...</td>\n",
       "      <td>add relationship</td>\n",
       "    </tr>\n",
       "    <tr>\n",
       "      <th>102</th>\n",
       "      <td>Please erase the node connected to the concept...</td>\n",
       "      <td>delete node</td>\n",
       "    </tr>\n",
       "    <tr>\n",
       "      <th>52</th>\n",
       "      <td>I need a new node with the label 'City'.</td>\n",
       "      <td>add node</td>\n",
       "    </tr>\n",
       "    <tr>\n",
       "      <th>47</th>\n",
       "      <td>Please add a 'Planet' node.</td>\n",
       "      <td>add node</td>\n",
       "    </tr>\n",
       "    <tr>\n",
       "      <th>115</th>\n",
       "      <td>I want to remove the node related to the time ...</td>\n",
       "      <td>delete node</td>\n",
       "    </tr>\n",
       "    <tr>\n",
       "      <th>39</th>\n",
       "      <td>I need a new node with the label 'Island'.</td>\n",
       "      <td>add node</td>\n",
       "    </tr>\n",
       "    <tr>\n",
       "      <th>195</th>\n",
       "      <td>Link node ID 345 to node ID 987 with the relat...</td>\n",
       "      <td>add property</td>\n",
       "    </tr>\n",
       "  </tbody>\n",
       "</table>\n",
       "</div>"
      ],
      "text/plain": [
       "                                              sentence            intent\n",
       "231  How can I add a 'KNOWS' relationship between n...  add relationship\n",
       "172  Seriously, how hard is it to add a few propert...      add property\n",
       "44          I need a new node with the label 'Strait'.          add node\n",
       "271  I want to create a 'MEMBER_OF' relationship be...  add relationship\n",
       "102  Please erase the node connected to the concept...       delete node\n",
       "52            I need a new node with the label 'City'.          add node\n",
       "47                         Please add a 'Planet' node.          add node\n",
       "115  I want to remove the node related to the time ...       delete node\n",
       "39          I need a new node with the label 'Island'.          add node\n",
       "195  Link node ID 345 to node ID 987 with the relat...      add property"
      ]
     },
     "execution_count": 3,
     "metadata": {},
     "output_type": "execute_result"
    }
   ],
   "source": [
    "path=\"final data.xlsx\"\n",
    "data=pd.read_excel(path)\n",
    "data.sample(10)"
   ]
  },
  {
   "cell_type": "code",
   "execution_count": 4,
   "metadata": {},
   "outputs": [],
   "source": [
    "import logging\n",
    "logging.getLogger(\"transformers\").setLevel(logging.ERROR)"
   ]
  },
  {
   "cell_type": "markdown",
   "metadata": {},
   "source": [
    "### DATA EXPLORATION"
   ]
  },
  {
   "cell_type": "code",
   "execution_count": 5,
   "metadata": {},
   "outputs": [
    {
     "name": "stdout",
     "output_type": "stream",
     "text": [
      "Total number of instances:\n",
      "314\n"
     ]
    }
   ],
   "source": [
    "print(\"Total number of instances:\")\n",
    "print(len(data))"
   ]
  },
  {
   "cell_type": "code",
   "execution_count": 6,
   "metadata": {},
   "outputs": [
    {
     "data": {
      "text/plain": [
       "Text(0.5, 1.0, 'Distribution of data among classes in dataset.')"
      ]
     },
     "execution_count": 6,
     "metadata": {},
     "output_type": "execute_result"
    },
    {
     "data": {
      "image/png": "[encoded data removed]",
      "text/plain": [
       "<Figure size 640x480 with 1 Axes>"
      ]
     },
     "metadata": {},
     "output_type": "display_data"
    }
   ],
   "source": [
    "classes=data['intent'].unique()\n",
    "countDict={}\n",
    "for Class in classes:\n",
    "    countDict[Class]=data['intent'].value_counts().get(Class,0)\n",
    "for Class,count in countDict.items():\n",
    "    plt.bar(Class,count)\n",
    "plt.title('Distribution of data among classes in dataset.')"
   ]
  },
  {
   "cell_type": "markdown",
   "metadata": {},
   "source": [
    "Since the distribution of data among the classes is not too imbalanced, we do not need to perform normalization. "
   ]
  },
  {
   "cell_type": "markdown",
   "metadata": {},
   "source": [
    "### DATA PRE-PROCESSING"
   ]
  },
  {
   "cell_type": "markdown",
   "metadata": {},
   "source": [
    "As BERT is trained on a corpus of full sentences of natural language and the embedding process involves contextual embedding, performing stop-word removal might interfere with the accurate functioning of BERT. So we do not remove stop words from our input. This is also why we will not be performing stemming or lemmatization."
   ]
  },
  {
   "cell_type": "markdown",
   "metadata": {},
   "source": [
    "removing all punctuation marks except '' and \"\" as the specifics of graph manipulation are expected to be input in quotes."
   ]
  },
  {
   "cell_type": "code",
   "execution_count": 7,
   "metadata": {},
   "outputs": [],
   "source": [
    "import string\n",
    "def removePunctuation(sentence):\n",
    "    cleaned=\"\".join([char for char in sentence if char not in string.punctuation or char==\"'\" or char=='\"'])    \n",
    "    return cleaned"
   ]
  },
  {
   "cell_type": "code",
   "execution_count": 8,
   "metadata": {},
   "outputs": [],
   "source": [
    "data['sentence'] =data['sentence'].apply(removePunctuation) #remove punctuation from data"
   ]
  },
  {
   "cell_type": "markdown",
   "metadata": {},
   "source": [
    "convert all classes to numerical classes <br>"
   ]
  },
  {
   "cell_type": "code",
   "execution_count": 9,
   "metadata": {},
   "outputs": [
    {
     "name": "stdout",
     "output_type": "stream",
     "text": [
      "Class name:add node-->number: 0\n",
      "Class name:delete node-->number: 1\n",
      "Class name:add property-->number: 2\n",
      "Class name:add relationship-->number: 3\n"
     ]
    },
    {
     "name": "stderr",
     "output_type": "stream",
     "text": [
      "C:\\Users\\z004z4ut\\AppData\\Local\\Temp\\ipykernel_7920\\41222258.py:4: FutureWarning: Downcasting behavior in `replace` is deprecated and will be removed in a future version. To retain the old behavior, explicitly call `result.infer_objects(copy=False)`. To opt-in to the future behavior, set `pd.set_option('future.no_silent_downcasting', True)`\n",
      "  data['intent']=data['intent'].replace(Class,ClassNumber)\n"
     ]
    }
   ],
   "source": [
    "ClassNumber=0\n",
    "for Class in data['intent'].unique():\n",
    "    print(f'Class name:{Class}-->number: {ClassNumber}')\n",
    "    data['intent']=data['intent'].replace(Class,ClassNumber)\n",
    "    ClassNumber+=1"
   ]
  },
  {
   "cell_type": "code",
   "execution_count": 10,
   "metadata": {},
   "outputs": [
    {
     "data": {
      "text/html": [
       "<div>\n",
       "<style scoped>\n",
       "    .dataframe tbody tr th:only-of-type {\n",
       "        vertical-align: middle;\n",
       "    }\n",
       "\n",
       "    .dataframe tbody tr th {\n",
       "        vertical-align: top;\n",
       "    }\n",
       "\n",
       "    .dataframe thead th {\n",
       "        text-align: right;\n",
       "    }\n",
       "</style>\n",
       "<table border=\"1\" class=\"dataframe\">\n",
       "  <thead>\n",
       "    <tr style=\"text-align: right;\">\n",
       "      <th></th>\n",
       "      <th>sentence</th>\n",
       "      <th>intent</th>\n",
       "    </tr>\n",
       "  </thead>\n",
       "  <tbody>\n",
       "    <tr>\n",
       "      <th>15</th>\n",
       "      <td>Please add a 'Historical Figure' node</td>\n",
       "      <td>0</td>\n",
       "    </tr>\n",
       "    <tr>\n",
       "      <th>192</th>\n",
       "      <td>Set the property 'status 'completed' 'successf...</td>\n",
       "      <td>2</td>\n",
       "    </tr>\n",
       "    <tr>\n",
       "      <th>194</th>\n",
       "      <td>Create a relationship 'colleague' between node...</td>\n",
       "      <td>2</td>\n",
       "    </tr>\n",
       "    <tr>\n",
       "      <th>259</th>\n",
       "      <td>I need to establish a 'LOCATEDIN' relationship...</td>\n",
       "      <td>3</td>\n",
       "    </tr>\n",
       "    <tr>\n",
       "      <th>198</th>\n",
       "      <td>Link node ID 123 to node ID 456 with the relat...</td>\n",
       "      <td>2</td>\n",
       "    </tr>\n",
       "    <tr>\n",
       "      <th>21</th>\n",
       "      <td>Make a new node with the label 'Politician'</td>\n",
       "      <td>0</td>\n",
       "    </tr>\n",
       "    <tr>\n",
       "      <th>189</th>\n",
       "      <td>Create a node with the property 'name Bob' 'ag...</td>\n",
       "      <td>2</td>\n",
       "    </tr>\n",
       "    <tr>\n",
       "      <th>282</th>\n",
       "      <td>Could you create a 'PARTOF' relationship betwe...</td>\n",
       "      <td>3</td>\n",
       "    </tr>\n",
       "    <tr>\n",
       "      <th>62</th>\n",
       "      <td>make a node</td>\n",
       "      <td>0</td>\n",
       "    </tr>\n",
       "    <tr>\n",
       "      <th>123</th>\n",
       "      <td>Can you erase the node associated with the ass...</td>\n",
       "      <td>1</td>\n",
       "    </tr>\n",
       "  </tbody>\n",
       "</table>\n",
       "</div>"
      ],
      "text/plain": [
       "                                              sentence  intent\n",
       "15               Please add a 'Historical Figure' node       0\n",
       "192  Set the property 'status 'completed' 'successf...       2\n",
       "194  Create a relationship 'colleague' between node...       2\n",
       "259  I need to establish a 'LOCATEDIN' relationship...       3\n",
       "198  Link node ID 123 to node ID 456 with the relat...       2\n",
       "21         Make a new node with the label 'Politician'       0\n",
       "189  Create a node with the property 'name Bob' 'ag...       2\n",
       "282  Could you create a 'PARTOF' relationship betwe...       3\n",
       "62                                         make a node       0\n",
       "123  Can you erase the node associated with the ass...       1"
      ]
     },
     "execution_count": 10,
     "metadata": {},
     "output_type": "execute_result"
    }
   ],
   "source": [
    "data.sample(10)"
   ]
  },
  {
   "cell_type": "markdown",
   "metadata": {},
   "source": [
    "**PRE-PROCESSING FOR BERT** <br>\n",
    "1. [CLS] and [SEP] are special tokens that BERT requires. this is because BERT was orginally trained for Q-A tasks. For classfn tasks, BERT requires another special token. All of these tokens are in-built in the hugging face tokenizer. \n",
    "2. All sequences must be of the same length, so we need to do padding. We do the padding on the right side which is preferred for BERT.\n",
    "3. Finally we pass in attention mask to assign importance to each token. So all non-padding tokens are assigned an attention of 1 and padding tokens 0.\n",
    "<br><br>\n",
    "<i>Since BERT takes the input ids, attention mask and target classes as 3 separate outputs, we can create a dataset where each of them are a separate column to make our program more readable.<i>"
   ]
  },
  {
   "cell_type": "markdown",
   "metadata": {},
   "source": [
    "Hugging face's BERT tokenizer uses pre trained BERT base, a small version of BERT. we use cased BERT because we want our model to be case sensitive, which will be important for paramter extraction in the named entity recognition layer."
   ]
  },
  {
   "cell_type": "code",
   "execution_count": 11,
   "metadata": {},
   "outputs": [],
   "source": [
    "def preProcess(data):\n",
    "    tokenizer=BertTokenizer.from_pretrained('bert-base-cased')\n",
    "    input_ids_list=[]\n",
    "    attention_masks_list=[]\n",
    "    intents_list=[]\n",
    "    for sentence,label in zip(data['sentence'],data['intent']):\n",
    "        encoding=tokenizer.encode_plus(\n",
    "            sentence,\n",
    "            add_special_tokens= True,\n",
    "            padding='max_length',\n",
    "            return_attention_mask=True,\n",
    "            return_token_type_ids=False,\n",
    "            return_tensors='pt' #pt signifies pyTorch, use tf for tensorFlow & keras\n",
    "        )\n",
    "        input_ids_list.append(encoding['input_ids'])\n",
    "        attention_masks_list.append(encoding['attention_mask'])\n",
    "        intents_list.append(torch.tensor(label).long()) #most transformer models and BERT expect input data to be of the type LongTensor\n",
    "    #to ensure that all of our tensors have the same shape we use cat()\n",
    "    input_ids_list = torch.cat(input_ids_list)\n",
    "    attention_masks_list = torch.cat(attention_masks_list)\n",
    "    intents_list = torch.stack(intents_list)\n",
    "    dataset=TensorDataset(input_ids_list,attention_masks_list,intents_list)\n",
    "    return dataset"
   ]
  },
  {
   "cell_type": "code",
   "execution_count": 12,
   "metadata": {},
   "outputs": [],
   "source": [
    "dataset=preProcess(data)"
   ]
  },
  {
   "cell_type": "code",
   "execution_count": 25,
   "metadata": {},
   "outputs": [],
   "source": [
    "# for i in range(1):\n",
    "#     input_ids, attention_mask, intent = dataset[i]\n",
    "#     print(f\"Input IDs: {input_ids}\")\n",
    "#     print(f\"Attention Mask: {attention_mask}\")\n",
    "#     print(f\"Intent: {intent}\")\n",
    "#     print()"
   ]
  },
  {
   "cell_type": "markdown",
   "metadata": {},
   "source": [
    "### TRAINING AND MODEL ARCHITECTURE"
   ]
  },
  {
   "cell_type": "markdown",
   "metadata": {},
   "source": [
    "Creating train and test sets with dataloader"
   ]
  },
  {
   "cell_type": "code",
   "execution_count": 14,
   "metadata": {},
   "outputs": [],
   "source": [
    "train_percent=0.8\n",
    "test_percent=0.2\n",
    "train_data,test_data=random_split(dataset,[train_percent,test_percent])"
   ]
  },
  {
   "cell_type": "code",
   "execution_count": 15,
   "metadata": {},
   "outputs": [],
   "source": [
    "#we do not have to define custom dataset with Dataset class as we've used TensorDataset() on our data.\n",
    "bSize=4\n",
    "trainingData=DataLoader(train_data,batch_size=bSize,shuffle=True)\n",
    "testingData=DataLoader(test_data,batch_size=bSize,shuffle=True)"
   ]
  },
  {
   "cell_type": "code",
   "execution_count": 24,
   "metadata": {},
   "outputs": [
    {
     "name": "stdout",
     "output_type": "stream",
     "text": [
      "Training data format:\n",
      "[tensor([[  101,   146,   112,  ...,     0,     0,     0],\n",
      "        [  101,  2825,  1128,  ...,     0,     0,     0],\n",
      "        [  101, 24930,  1181,  ...,     0,     0,     0],\n",
      "        [  101,   146,  1328,  ...,     0,     0,     0]]), tensor([[1, 1, 1,  ..., 0, 0, 0],\n",
      "        [1, 1, 1,  ..., 0, 0, 0],\n",
      "        [1, 1, 1,  ..., 0, 0, 0],\n",
      "        [1, 1, 1,  ..., 0, 0, 0]]), tensor([1, 0, 2, 1])]\n"
     ]
    }
   ],
   "source": [
    "print(\"Training data format:\")\n",
    "for batch in enumerate(trainingData):\n",
    "    _,tensor=batch\n",
    "    print(tensor)\n",
    "    # for i in range(bSize):    \n",
    "    #     input_ids = tensor[0][i]\n",
    "    #     attention_mask = tensor[1][i]\n",
    "    #     labels = tensor[2][i]\n",
    "    #     print(f'BATCH ELEMENT {i}---------------------')\n",
    "    #     print(\"Input IDs:\", input_ids)\n",
    "    #     print(\"Attention Mask:\", attention_mask)\n",
    "    #     print(\"Labels:\", labels)\n",
    "    break"
   ]
  },
  {
   "cell_type": "markdown",
   "metadata": {},
   "source": [
    "Define model architecture"
   ]
  },
  {
   "cell_type": "markdown",
   "metadata": {},
   "source": [
    "1. BERT with default configuration followed by a dropout layer and a classfication layer (dense layer)"
   ]
  },
  {
   "cell_type": "code",
   "execution_count": 17,
   "metadata": {},
   "outputs": [],
   "source": [
    "class BERTmodel(nn.Module):\n",
    "    def __init__(self):\n",
    "        super(BERTmodel, self).__init__()\n",
    "        self.configuration=BertConfig()\n",
    "        self.bert=transformers.BertModel(self.configuration)\n",
    "        self.dropout=nn.Dropout(0.3)\n",
    "        self.linear=nn.Linear(768,4) #768 is the output size of BERT and 4 is the number of output classes we have\n",
    "    \n",
    "    def forward(self,ip_ids,attention_masks):\n",
    "        _, op= self.bert(ip_ids, attention_mask = attention_masks,return_dict=False) #op is the embedding of all input tokens and also special tokens. placeholder is only for input tokens.\n",
    "        op=self.dropout(op)\n",
    "        op=self.linear(op)\n",
    "        return op    "
   ]
  },
  {
   "cell_type": "code",
   "execution_count": 18,
   "metadata": {},
   "outputs": [],
   "source": [
    "device = 'cuda' if torch.cuda.is_available() else 'cpu'"
   ]
  },
  {
   "cell_type": "code",
   "execution_count": 19,
   "metadata": {},
   "outputs": [],
   "source": [
    "model = BERTmodel().to(device)\n",
    "loss_fn = torch.nn.CrossEntropyLoss()\n",
    "optimizer = torch.optim.Adam(model.parameters(), lr=0.0001)\n",
    "epochs = 50"
   ]
  },
  {
   "cell_type": "markdown",
   "metadata": {},
   "source": [
    "TRAINING LOOP"
   ]
  },
  {
   "cell_type": "code",
   "execution_count": null,
   "metadata": {},
   "outputs": [],
   "source": [
    "lossList=[]\n",
    "for epoch in range(epochs):\n",
    "    model.train()\n",
    "    for _,data in enumerate(trainingData):\n",
    "        ip_ids=data[0].to(device)\n",
    "        mask=data[1].to(device)\n",
    "        target=data[2].to(device)\n",
    "        optimizer.zero_grad()\n",
    "        predictions=model(ip_ids,mask)\n",
    "        loss=loss_fn(predictions,target)\n",
    "        loss.backward()\n",
    "        optimizer.step()\n",
    "    if epoch%10==0:\n",
    "        print(f\"{epoch} epoch: loss ={loss}\")\n",
    "        lossList.append(loss.item())"
   ]
  },
  {
   "cell_type": "code",
   "execution_count": null,
   "metadata": {},
   "outputs": [],
   "source": [
    "plt.plot(lossList)\n",
    "plt.xlabel(\"Epochs\")\n",
    "plt.ylabel(\"Loss\")\n",
    "plt.title(\"Epochs Vs Loss\")"
   ]
  }
 ],
 "metadata": {
  "kernelspec": {
   "display_name": "Python 3",
   "language": "python",
   "name": "python3"
  },
  "language_info": {
   "codemirror_mode": {
    "name": "ipython",
    "version": 3
   },
   "file_extension": ".py",
   "mimetype": "text/x-python",
   "name": "python",
   "nbconvert_exporter": "python",
   "pygments_lexer": "ipython3",
   "version": "3.12.3"
  }
 },
 "nbformat": 4,
 "nbformat_minor": 2
}

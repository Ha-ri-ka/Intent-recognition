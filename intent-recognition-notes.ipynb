{
 "cells": [
  {
   "cell_type": "code",
   "execution_count": null,
   "metadata": {},
   "outputs": [],
   "source": [
    "from transformers import BertTokenizer\n",
    "tokenizerPath=\"supporting models/tokenizer\"\n",
    "tokenizer = BertTokenizer.from_pretrained(tokenizerPath)\n",
    "sample = 'where is Himalayas in the world map?' \n",
    "encoding = tokenizer.encode(sample)\n",
    "print(\"encoding:\",encoding)\n",
    "print(\"tokens:\",tokenizer.convert_ids_to_tokens(encoding))"
   ]
  },
  {
   "cell_type": "code",
   "execution_count": null,
   "metadata": {},
   "outputs": [],
   "source": [
    "# SPECIAL TOKENS FOR BERT\n",
    "print('seperation token:',tokenizer.sep_token,\"id:\",tokenizer.sep_token_id)\n",
    "print('classfication token:',tokenizer.cls_token,\"id:\",tokenizer.cls_token_id)\n",
    "print('padding token:',tokenizer.pad_token,\"id:\",tokenizer.pad_token_id)\n",
    "print('unkown token for anything unrecognized by tokenizer:',tokenizer.unk_token,\"id:\",tokenizer.unk_token_id)"
   ]
  },
  {
   "cell_type": "code",
   "execution_count": null,
   "metadata": {},
   "outputs": [],
   "source": [
    "def tokenizerBERT(sentence):\n",
    "    tokenizer=transformers.BertTokenizer.from_pretrained('bert-base-cased')\n",
    "    tokens=tokenizer.tokenize(sentence) #convert input sentence to constituent tokens\n",
    "    token_ids=tokenizer.convert_tokens_to_ids(tokens) #each token converted to an ID"
   ]
  },
  {
   "cell_type": "code",
   "execution_count": null,
   "metadata": {},
   "outputs": [],
   "source": [
    "count=0\n",
    "for sent in data['sentence']:\n",
    "  print(sent)\n",
    "  op=preProcess(sent)\n",
    "  print((op['input_ids']).shape)\n",
    "  print((op['attention_mask']).shape)\n",
    "  print(\"------------------------------\")\n",
    "  count+=1\n",
    "  if count==3:  break"
   ]
  }
 ],
 "metadata": {
  "language_info": {
   "name": "python"
  }
 },
 "nbformat": 4,
 "nbformat_minor": 2
}
